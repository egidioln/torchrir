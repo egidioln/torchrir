{
 "cells": [
  {
   "cell_type": "markdown",
   "metadata": {},
   "source": [
    "# Convex room RIR calculation\n"
   ]
  },
  {
   "cell_type": "code",
   "execution_count": null,
   "metadata": {},
   "outputs": [],
   "source": [
    "from torchrir.geometry import ConvexRoom\n",
    "import torch\n",
    "\n",
    "x_size = 4.5000\n",
    "y_size = 2.1500\n",
    "z_size = 4.3000\n",
    "points = torch.tensor(\n",
    "    [\n",
    "        [-x_size, -y_size, -z_size],\n",
    "        [-x_size, -y_size, z_size],\n",
    "        [-x_size, y_size, -z_size],\n",
    "        [-x_size, y_size, z_size],\n",
    "        [x_size, -y_size, -z_size],\n",
    "        [x_size, -y_size, z_size],\n",
    "        [x_size, y_size, -z_size],\n",
    "        [x_size, y_size, z_size],\n",
    "    ]\n",
    ")\n",
    "\n",
    "shoebox_room = ConvexRoom(points.T, 0.9)"
   ]
  },
  {
   "cell_type": "code",
   "execution_count": null,
   "metadata": {},
   "outputs": [],
   "source": [
    "shoebox_room.plot(alpha=0.35)"
   ]
  },
  {
   "cell_type": "code",
   "execution_count": null,
   "metadata": {},
   "outputs": [],
   "source": [
    "from torchrir.geometry import ImpulseResponseStrategies\n",
    "from torchrir.source import Source\n",
    "\n",
    "\n",
    "source = Source(position=torch.tensor([0.8, 0.8, 0.8]), intensity=2.0)\n",
    "fs = 48000.0  # Hz\n",
    "rir = shoebox_room.compute_rir(\n",
    "    p=torch.tensor([0.2, 0.2, 0.2]),\n",
    "    s=source,\n",
    "    k=7,\n",
    "    fs=fs,\n",
    "    impulse_response_fn=ImpulseResponseStrategies.sinc,\n",
    ")"
   ]
  },
  {
   "cell_type": "code",
   "execution_count": null,
   "metadata": {},
   "outputs": [],
   "source": [
    "import matplotlib.pyplot as plt\n",
    "\n",
    "plt.plot(rir[1], rir[0])\n",
    "plt.xlim([0, 1])"
   ]
  },
  {
   "cell_type": "code",
   "execution_count": null,
   "metadata": {
    "tags": [
     "remove-cell"
    ]
   },
   "outputs": [],
   "source": [
    "import IPython\n",
    "import wave\n",
    "\n",
    "with wave.open(\"_output.wav\", \"w\") as wf:\n",
    "    wf.setnchannels(1)  # Mono\n",
    "    wf.setsampwidth(2)  # 2 bytes per sample (16-bit PCM)\n",
    "    wf.setframerate(1 / (rir[1][1] - rir[1][0]).numpy())\n",
    "    wf.writeframes(rir[0].numpy().tobytes())\n",
    "\n",
    "IPython.display.Audio(\"_output.wav\")"
   ]
  }
 ],
 "metadata": {
  "kernelspec": {
   "display_name": ".venv",
   "language": "python",
   "name": "python3"
  },
  "language_info": {
   "codemirror_mode": {
    "name": "ipython",
    "version": 3
   },
   "file_extension": ".py",
   "mimetype": "text/x-python",
   "name": "python",
   "nbconvert_exporter": "python",
   "pygments_lexer": "ipython3",
   "version": "3.11.11"
  }
 },
 "nbformat": 4,
 "nbformat_minor": 2
}
