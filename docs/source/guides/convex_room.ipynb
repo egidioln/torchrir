{
 "cells": [
  {
   "cell_type": "markdown",
   "metadata": {},
   "source": [
    "# Convex room RIR calculation\n"
   ]
  },
  {
   "cell_type": "code",
   "execution_count": null,
   "metadata": {},
   "outputs": [],
   "source": [
    "from torchrir.geometry import ConvexRoom\n",
    "import torch\n",
    "room = ConvexRoom(torch.cartesian_prod(*3*[torch.arange(2,dtype=float)]), 0.6)"
   ]
  },
  {
   "cell_type": "code",
   "execution_count": null,
   "metadata": {},
   "outputs": [],
   "source": [
    "room.plot()"
   ]
  },
  {
   "cell_type": "code",
   "execution_count": null,
   "metadata": {},
   "outputs": [],
   "source": [
    "from torchrir.source import Source\n",
    "\n",
    "\n",
    "source = Source(position=torch.tensor([.8, .8, .8]), intensity=1)\n",
    "\n",
    "rir = room.compute_rir(p=torch.tensor([0.2,0.2,0.2]), s=source, k=6)"
   ]
  },
  {
   "cell_type": "code",
   "execution_count": null,
   "metadata": {},
   "outputs": [],
   "source": [
    "import matplotlib.pyplot as plt\n",
    "\n",
    "plt.plot(rir[1], rir[0])\n",
    "plt.xlim([0, 0.1])"
   ]
  },
  {
   "cell_type": "code",
   "execution_count": null,
   "metadata": {
    "tags": [
     "remove-cell"
    ]
   },
   "outputs": [],
   "source": [
    "import IPython\n",
    "import wave\n",
    "with wave.open(\"_output.wav\", \"w\") as wf:\n",
    "    wf.setnchannels(1)  # Mono\n",
    "    wf.setsampwidth(2)  # 2 bytes per sample (16-bit PCM)\n",
    "    wf.setframerate(1/(rir[1][1]-rir[1][0]).numpy())\n",
    "    wf.writeframes(rir[0].numpy().tobytes())\n",
    "\n",
    "IPython.display.Audio(\"_output.wav\")"
   ]
  }
 ],
 "metadata": {
  "kernelspec": {
   "display_name": ".venv",
   "language": "python",
   "name": "python3"
  },
  "language_info": {
   "codemirror_mode": {
    "name": "ipython",
    "version": 3
   },
   "file_extension": ".py",
   "mimetype": "text/x-python",
   "name": "python",
   "nbconvert_exporter": "python",
   "pygments_lexer": "ipython3",
   "version": "3.11.11"
  }
 },
 "nbformat": 4,
 "nbformat_minor": 2
}
