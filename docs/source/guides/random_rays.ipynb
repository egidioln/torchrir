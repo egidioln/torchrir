{
 "cells": [
  {
   "cell_type": "markdown",
   "id": "2189d961",
   "metadata": {},
   "source": [
    "# Random ray tracing visualization\n",
    "\n",
    "Here a few examples of random ray tracing visualizations using the torchRIR package are given.\n",
    "\n",
    "## Random rays on a sphere\n",
    "\n"
   ]
  },
  {
   "cell_type": "code",
   "execution_count": null,
   "id": "53c6d49e",
   "metadata": {},
   "outputs": [],
   "source": [
    "from matplotlib import pyplot as plt\n",
    "import torch\n",
    "from torchrir.source import Source\n",
    "from torchrir.geometry import Ray\n",
    "\n",
    "source = Source(position=torch.tensor([0.0, 0.0, 0.0]))\n",
    "r: Ray = source.sample_rays(shape=(100,))\n",
    "\n",
    "fig = plt.figure()\n",
    "fig, ax = r.plot()\n",
    "ax.set_box_aspect((1, 1, 1))"
   ]
  },
  {
   "cell_type": "markdown",
   "id": "02353b7d",
   "metadata": {},
   "source": [
    "Now let's see the rays that hit a 2D patch.\n",
    "\n"
   ]
  },
  {
   "cell_type": "code",
   "execution_count": null,
   "id": "1169b4df",
   "metadata": {},
   "outputs": [],
   "source": [
    "from torchrir.geometry import Patch\n",
    "\n",
    "vertices = torch.tensor(\n",
    "    [\n",
    "        [1.0, 0.0, 1.0],\n",
    "        [1.0, 1.0, 1.0],\n",
    "        [1.0, 1.0, 0.0],\n",
    "        [1.0, 0.0, 0.0],\n",
    "    ]\n",
    ").T\n",
    "p = Patch(vertices=vertices)\n",
    "intersection_mask, intersection_points = r.intersects(p)\n",
    "r_that_intersects: Ray = r[intersection_mask]\n",
    "\n",
    "fig = plt.figure()\n",
    "fig, ax = r.plot()\n",
    "fig, ax = r_that_intersects.plot(fig=fig)\n",
    "ax.set_box_aspect((1, 1, 1))\n",
    "p.plot(ax=ax, color=\"red\", alpha=0.5)"
   ]
  }
 ],
 "metadata": {
  "kernelspec": {
   "display_name": ".venv",
   "language": "python",
   "name": "python3"
  },
  "language_info": {
   "codemirror_mode": {
    "name": "ipython",
    "version": 3
   },
   "file_extension": ".py",
   "mimetype": "text/x-python",
   "name": "python",
   "nbconvert_exporter": "python",
   "pygments_lexer": "ipython3",
   "version": "3.11.11"
  }
 },
 "nbformat": 4,
 "nbformat_minor": 5
}
