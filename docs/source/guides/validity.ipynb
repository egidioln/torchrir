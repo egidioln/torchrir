{
 "cells": [
  {
   "cell_type": "markdown",
   "metadata": {},
   "source": [
    "# Virtual Source Validity\n",
    "\n",
    "{download}`Download this page as a notebook 🗎 </guides/validity.ipynb>`.\n",
    "\n",
    "This tutorial implements the example provided by [Borish, 1984](https://doi.org/10.1121/1.390983), where a third-order-reflection virtual source is shown to be invalid. The original sketch of the example is given below:\n",
    "\n",
    "![image.png](/_static/borish_1984_fig_4.svg)\n",
    "\n",
    "## Defining the walls\n",
    "\n",
    "First we define the walls as [`Patch`](torchrir.geometry)s by their vertices. We assume the image above defines a top-view of the situation and a 3D coordinate system centered at the bottom of the edge between the two walls: $x$ axis is positive to the right; $y$ axis is positive to the top.\n"
   ]
  },
  {
   "cell_type": "code",
   "execution_count": null,
   "metadata": {},
   "outputs": [],
   "source": [
    "from torchrir.geometry import Patch\n",
    "import torch\n",
    "\n",
    "side_1 = Patch(\n",
    "    torch.tensor(\n",
    "        [\n",
    "            [0.0, 0.0, 0.0],\n",
    "            [0.5, -2.0, 0.0],\n",
    "            [0.5, -2.0, 2.0],\n",
    "            [0.0, 0.0, 2.0],\n",
    "        ]\n",
    "    ).T,\n",
    "    0.7,\n",
    ")\n",
    "side_2 = Patch(\n",
    "    torch.tensor(\n",
    "        [\n",
    "            [-2.0, 0.0, 0.0],\n",
    "            [0.0, 0.0, 0.0],\n",
    "            [0.0, 0.0, 2.0],\n",
    "            [-2.0, 0.0, 2.0],\n",
    "        ]\n",
    "    ).T,\n",
    "    0.9,\n",
    ")"
   ]
  },
  {
   "cell_type": "markdown",
   "metadata": {},
   "source": [
    "The order of the vertices above is important: [right-hand rule defines the direction of the normal vector](https://en.wikipedia.org/wiki/Right-hand_rule#Curve_orientation_and_normal_vectors), which should point inwards.\n",
    "\n",
    "Now let's add the real source $vs_O$."
   ]
  },
  {
   "cell_type": "code",
   "execution_count": null,
   "metadata": {},
   "outputs": [],
   "source": [
    "from torchrir.source import Source\n",
    "\n",
    "\n",
    "vs_o = Source(torch.tensor([-0.3, -1.0, 1.0]), intensity=3.0)"
   ]
  },
  {
   "cell_type": "markdown",
   "metadata": {},
   "source": [
    "And calculate the other three using the `.mirror` method (notice that `next` is needed as `.mirror` is a generator for efficiency reasons)"
   ]
  },
  {
   "cell_type": "code",
   "execution_count": null,
   "metadata": {},
   "outputs": [],
   "source": [
    "vs_1 = next(side_1.mirror(vs_o, if_valid=True))\n",
    "vs_2 = next(side_2.mirror(vs_1, if_valid=True))\n",
    "vs_i = next(side_1.mirror(vs_2, if_valid=True))  # vs_i is VS invalid\n",
    "\n",
    "print(\"valid sources: \", len(vs_i.p))  # No valid sources\n",
    "\n",
    "# Now we try to mirror vs_2 without checking validity to see all sources of the example\n",
    "\n",
    "vs_i = next(side_1.mirror(vs_2, if_valid=False))\n",
    "print(\"all sources  : \", len(vs_i.p))"
   ]
  },
  {
   "cell_type": "markdown",
   "metadata": {},
   "source": [
    "As discussed in the paper, $vs_i$ is invalid. This is detected by the validity check proposed in the [(Borish, 1984; Sec I.B)](https://doi.org/10.1121/1.390983): The signed distance from the source to the reflecting patch is computed and, if negative, we are reflecting a source with respect to the \"exterior\" side of the patch. Therefore, it should be discarded.\n",
    "\n",
    "\n",
    "Let's now use the ploting functions to visualize the scene."
   ]
  },
  {
   "cell_type": "code",
   "execution_count": null,
   "metadata": {},
   "outputs": [],
   "source": [
    "import matplotlib.pyplot as plt\n",
    "\n",
    "# adjust camera of 3d axis to have a top view\n",
    "fig = plt.figure()\n",
    "ax = fig.add_subplot(111, projection=\"3d\")\n",
    "ax.view_init(elev=70, azim=-120)\n",
    "ax.set_box_aspect([1, 1, 1])  # aspect ratio is 1:1:1\n",
    "\n",
    "side_1.plot(fig=fig, ax=ax, alpha=0.5)\n",
    "side_2.plot(fig=fig, ax=ax, alpha=0.5)\n",
    "plt.gca().set_aspect(\"equal\", adjustable=\"box\")\n",
    "ax.scatter(vs_o.p[0], vs_o.p[1], vs_o.p[2], c=\"k\", marker=\"o\")\n",
    "\n",
    "# scatter3d plot of vsi.p\n",
    "for v in [vs_1, vs_2]:\n",
    "    p = v.p.squeeze()\n",
    "    ax.scatter(p[0], p[1], p[2], c=\"b\", marker=\"o\")\n",
    "\n",
    "p = vs_i.p.squeeze()\n",
    "ax.scatter(p[0], p[1], p[2], c=\"r\", marker=\"o\")"
   ]
  }
 ],
 "metadata": {
  "kernelspec": {
   "display_name": ".venv",
   "language": "python",
   "name": "python3"
  },
  "language_info": {
   "codemirror_mode": {
    "name": "ipython",
    "version": 3
   },
   "file_extension": ".py",
   "mimetype": "text/x-python",
   "name": "python",
   "nbconvert_exporter": "python",
   "pygments_lexer": "ipython3",
   "version": "3.11.11"
  }
 },
 "nbformat": 4,
 "nbformat_minor": 2
}
